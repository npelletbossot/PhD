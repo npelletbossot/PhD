{
 "cells": [
  {
   "cell_type": "markdown",
   "metadata": {},
   "source": [
    "# File to work in and test few stuff"
   ]
  },
  {
   "cell_type": "code",
   "execution_count": 2,
   "metadata": {},
   "outputs": [
    {
     "data": {
      "text/plain": [
       "array([1., 1., 1., 1., 0., 0., 0., 0., 0., 0., 0., 0., 0., 0., 0., 0., 0.,\n",
       "       0., 0., 1., 1., 1., 1., 1., 1., 1., 0., 0., 0., 0., 0., 0., 0., 0.,\n",
       "       0., 0., 0., 0., 0., 0., 0., 1., 1., 1., 1., 1., 0., 0., 0., 0., 0.,\n",
       "       0., 0., 0., 0., 0., 0., 0., 0., 0., 0., 1., 1., 1., 0., 0., 0., 0.,\n",
       "       0., 0., 0., 0., 0., 0., 0., 0., 0., 0., 0., 1., 1., 1., 1., 1., 0.,\n",
       "       0., 0., 0., 0., 0., 0., 0., 0., 0., 0., 0., 0., 0., 0., 1., 1., 1.,\n",
       "       1., 1., 0., 0., 0., 0., 0., 0., 0., 0., 0., 0., 0., 0., 0., 0., 0.,\n",
       "       1., 1., 1., 1., 1., 0., 0., 0., 0., 0., 0., 0., 0., 0., 0., 0., 0.,\n",
       "       0., 0., 0., 1., 1., 1., 1., 1., 0., 0., 0., 0., 0., 0., 0., 0., 0.,\n",
       "       0., 0., 0., 0., 0., 0., 1., 1., 1., 1., 1., 1., 1., 0., 0., 0., 0.,\n",
       "       0., 0., 0., 0., 0., 0., 0., 0., 0., 0., 0., 1., 1., 1., 1., 1., 0.,\n",
       "       0., 0., 0., 0., 0., 0., 0., 0., 0., 0., 0., 0., 0., 0., 1., 1., 1.,\n",
       "       1.])"
      ]
     },
     "execution_count": 2,
     "metadata": {},
     "output_type": "execute_result"
    }
   ],
   "source": [
    "import numpy as np\n",
    "import matplotlib.pyplot as plt\n",
    "\n",
    "\n",
    "n_nucleo = 10\n",
    "s_nucleo = 15\n",
    "\n",
    "n_linker = n_nucleo + 1\n",
    "s_linker = 5\n",
    "\n",
    "s_shift = 1\n",
    "\n",
    "def alpha_diffused(\n",
    "    n_nucleo: int,\n",
    "    s_nucleo: int,\n",
    "    n_linker: int,\n",
    "    s_linker: int,\n",
    "    s_shift: int,\n",
    "    alphaf: float,\n",
    "    alphao: float\n",
    ") -> np.ndarray :\n",
    "    \"\"\"Generate a 1D alpha profile representing a chromatin fiber composed of nucleosomes and linkers,\n",
    "    with random diffusion (shifts) of linker regions around nucleosomes.\n",
    "\n",
    "    Args:\n",
    "        n_nucleo (int): Number of nucleosomes.\n",
    "        s_nucleo (int): Size (in base pairs) of each nucleosome.\n",
    "        n_linker (int): Number of linker regions (typically n_nucleo - 1).\n",
    "        s_linker (int): Size (in base pairs) of each linker region.\n",
    "        s_shift (int): Maximum extent (in bp) of the fuzzy linker region on each side of a nucleosome.\n",
    "                       Must satisfy s_shift ≤ s_linker // 2 to prevent overlapping.\n",
    "        alphaf (float): Alpha value assigned to fuzzy (linker) regions.\n",
    "        alphao (float): Alpha value assigned to ordered (nucleosome) regions.\n",
    "\n",
    "    Returns:\n",
    "        np.ndarray | None: The resulting 1D alpha profile, or None if the given s_shift is too large.\n",
    "    \n",
    "    Notes:\n",
    "        - The base profile alternates between linker and nucleosome regions with fixed periodicity.\n",
    "        - Each nucleosome is randomly assigned a side (left or right) where additional linker fuzziness is applied.\n",
    "        - The final profile is plotted: initial in blue, diffused in red.\n",
    "    \"\"\"\n",
    "    \n",
    "    if s_shift > s_linker // 2:\n",
    "        print(\"No such s_shift value permitted because of possible entanglement\")\n",
    "        return None\n",
    "\n",
    "    # Random shifts: -1 (right) or 1 (left) for each nucleosome\n",
    "    # Construct the initial periodic alpha profile\n",
    "    shifts = np.random.choice([-1, 1], size=n_nucleo, p=[0.5, 0.5])\n",
    "    s_period = s_linker + s_nucleo\n",
    "    shifted = np.array(\n",
    "        (s_linker * [alphaf] + s_nucleo * [alphao]) * n_nucleo + s_linker * [alphaf],\n",
    "        dtype=float\n",
    "    )\n",
    "\n",
    "    # Apply diffusion around each nucleosome\n",
    "    for i in range(n_nucleo):\n",
    "        nucleo_start = s_linker + i * s_period\n",
    "        shifted[nucleo_start - s_shift : nucleo_start + s_nucleo + s_shift] = alphao\n",
    "\n",
    "        if shifts[i] == 1:\n",
    "            # Fuzzy region to the left\n",
    "            shifted[nucleo_start - s_shift : nucleo_start + s_shift] = alphaf\n",
    "        else:\n",
    "            # Fuzzy region to the right\n",
    "            shifted[nucleo_start - s_shift + s_nucleo : nucleo_start + s_shift + s_nucleo] = alphaf\n",
    "\n",
    "    return shifted\n",
    "\n",
    "\n",
    "alpha_diffused(n_nucleo, s_nucleo, n_linker, s_linker, s_shift, 1, 0)"
   ]
  },
  {
   "cell_type": "code",
   "execution_count": 2,
   "metadata": {},
   "outputs": [],
   "source": [
    "import os\n",
    "os.environ['OMP_NUM_THREADS'] = '1' # prevent multithreading\n",
    "\n",
    "from tqdm.auto import tqdm\n",
    "from multiprocessing import Pool\n",
    "\n",
    "import numpy as np\n",
    "from scipy import optimize, linalg\n",
    "from matplotlib import pyplot as plt\n",
    "\n",
    "\n",
    "\n",
    "# The implementation we are using is not particularly efficient; so let's speed things up by parallelization\n",
    "N_traj = 10 # the more the better (but longer runtime)\n",
    "with Pool() as mypool:\n",
    "    imap = mypool.imap_unordered(run_recoil, np.random.randint(1<<31, size=N_traj))\n",
    "    imap = tqdm(imap, total=N_traj)\n",
    "    trajectories = np.array(list(imap))"
   ]
  },
  {
   "cell_type": "code",
   "execution_count": null,
   "metadata": {},
   "outputs": [],
   "source": [
    "\n",
    "# os.environ['OMP_NUM_THREADS'] = '1' # prevent multithreading\n",
    "\n",
    "# from tqdm.auto import tqdm\n",
    "# from multiprocessing import Pool\n",
    "# from scipy import optimize, linalg\n",
    "# from matplotlib import pyplot as plt\n",
    "\n",
    "plt.rcParams['font.size'] = 8\n",
    "\n",
    "\n",
    "plt.rcParams['font.size'] = 8                                  "
   ]
  },
  {
   "cell_type": "markdown",
   "metadata": {},
   "source": [
    "ctrl a pour selectionnet toute une cellule d'un coup\n",
    "\n",
    "ctrl shift pour passer de fenetre en fenetre\n",
    "\n",
    "alt flèches haut bas gauche droite"
   ]
  },
  {
   "cell_type": "markdown",
   "metadata": {},
   "source": [
    "# ."
   ]
  }
 ],
 "metadata": {
  "kernelspec": {
   "display_name": "venv_python_3.11.5-GCCcore-13.2.0",
   "language": "python",
   "name": "python3"
  },
  "language_info": {
   "codemirror_mode": {
    "name": "ipython",
    "version": 3
   },
   "file_extension": ".py",
   "mimetype": "text/x-python",
   "name": "python",
   "nbconvert_exporter": "python",
   "pygments_lexer": "ipython3",
   "version": "3.11.5"
  }
 },
 "nbformat": 4,
 "nbformat_minor": 2
}
