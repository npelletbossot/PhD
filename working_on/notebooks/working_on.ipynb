{
 "cells": [
  {
   "cell_type": "markdown",
   "metadata": {},
   "source": [
    "# File to work in and test few stuff"
   ]
  },
  {
   "cell_type": "code",
   "execution_count": 2,
   "metadata": {},
   "outputs": [
    {
     "data": {
      "text/plain": [
       "array([1., 1., 1., 1., 0., 0., 0., 0., 0., 0., 0., 0., 0., 0., 0., 0., 0.,\n",
       "       0., 0., 1., 1., 1., 1., 1., 1., 1., 0., 0., 0., 0., 0., 0., 0., 0.,\n",
       "       0., 0., 0., 0., 0., 0., 0., 1., 1., 1., 1., 1., 0., 0., 0., 0., 0.,\n",
       "       0., 0., 0., 0., 0., 0., 0., 0., 0., 0., 1., 1., 1., 0., 0., 0., 0.,\n",
       "       0., 0., 0., 0., 0., 0., 0., 0., 0., 0., 0., 1., 1., 1., 1., 1., 0.,\n",
       "       0., 0., 0., 0., 0., 0., 0., 0., 0., 0., 0., 0., 0., 0., 1., 1., 1.,\n",
       "       1., 1., 0., 0., 0., 0., 0., 0., 0., 0., 0., 0., 0., 0., 0., 0., 0.,\n",
       "       1., 1., 1., 1., 1., 0., 0., 0., 0., 0., 0., 0., 0., 0., 0., 0., 0.,\n",
       "       0., 0., 0., 1., 1., 1., 1., 1., 0., 0., 0., 0., 0., 0., 0., 0., 0.,\n",
       "       0., 0., 0., 0., 0., 0., 1., 1., 1., 1., 1., 1., 1., 0., 0., 0., 0.,\n",
       "       0., 0., 0., 0., 0., 0., 0., 0., 0., 0., 0., 1., 1., 1., 1., 1., 0.,\n",
       "       0., 0., 0., 0., 0., 0., 0., 0., 0., 0., 0., 0., 0., 0., 1., 1., 1.,\n",
       "       1.])"
      ]
     },
     "execution_count": 2,
     "metadata": {},
     "output_type": "execute_result"
    }
   ],
   "source": [
    "import numpy as np\n",
    "import matplotlib.pyplot as plt\n",
    "\n",
    "\n",
    "n_nucleo = 10\n",
    "s_nucleo = 15\n",
    "\n",
    "n_linker = n_nucleo + 1\n",
    "s_linker = 5\n",
    "\n",
    "s_shift = 1\n",
    "\n",
    "def alpha_diffused(\n",
    "    n_nucleo: int,\n",
    "    s_nucleo: int,\n",
    "    n_linker: int,\n",
    "    s_linker: int,\n",
    "    s_shift: int,\n",
    "    alphaf: float,\n",
    "    alphao: float\n",
    ") -> np.ndarray :\n",
    "    \"\"\"Generate a 1D alpha profile representing a chromatin fiber composed of nucleosomes and linkers,\n",
    "    with random diffusion (shifts) of linker regions around nucleosomes.\n",
    "\n",
    "    Args:\n",
    "        n_nucleo (int): Number of nucleosomes.\n",
    "        s_nucleo (int): Size (in base pairs) of each nucleosome.\n",
    "        n_linker (int): Number of linker regions (typically n_nucleo - 1).\n",
    "        s_linker (int): Size (in base pairs) of each linker region.\n",
    "        s_shift (int): Maximum extent (in bp) of the fuzzy linker region on each side of a nucleosome.\n",
    "                       Must satisfy s_shift ≤ s_linker // 2 to prevent overlapping.\n",
    "        alphaf (float): Alpha value assigned to fuzzy (linker) regions.\n",
    "        alphao (float): Alpha value assigned to ordered (nucleosome) regions.\n",
    "\n",
    "    Returns:\n",
    "        np.ndarray | None: The resulting 1D alpha profile, or None if the given s_shift is too large.\n",
    "    \n",
    "    Notes:\n",
    "        - The base profile alternates between linker and nucleosome regions with fixed periodicity.\n",
    "        - Each nucleosome is randomly assigned a side (left or right) where additional linker fuzziness is applied.\n",
    "        - The final profile is plotted: initial in blue, diffused in red.\n",
    "    \"\"\"\n",
    "    \n",
    "    if s_shift > s_linker // 2:\n",
    "        print(\"No such s_shift value permitted because of possible entanglement\")\n",
    "        return None\n",
    "\n",
    "    # Random shifts: -1 (right) or 1 (left) for each nucleosome\n",
    "    # Construct the initial periodic alpha profile\n",
    "    shifts = np.random.choice([-1, 1], size=n_nucleo, p=[0.5, 0.5])\n",
    "    s_period = s_linker + s_nucleo\n",
    "    shifted = np.array(\n",
    "        (s_linker * [alphaf] + s_nucleo * [alphao]) * n_nucleo + s_linker * [alphaf],\n",
    "        dtype=float\n",
    "    )\n",
    "\n",
    "    # Apply diffusion around each nucleosome\n",
    "    for i in range(n_nucleo):\n",
    "        nucleo_start = s_linker + i * s_period\n",
    "        shifted[nucleo_start - s_shift : nucleo_start + s_nucleo + s_shift] = alphao\n",
    "\n",
    "        if shifts[i] == 1:\n",
    "            # Fuzzy region to the left\n",
    "            shifted[nucleo_start - s_shift : nucleo_start + s_shift] = alphaf\n",
    "        else:\n",
    "            # Fuzzy region to the right\n",
    "            shifted[nucleo_start - s_shift + s_nucleo : nucleo_start + s_shift + s_nucleo] = alphaf\n",
    "\n",
    "    return shifted\n",
    "\n",
    "\n",
    "alpha_diffused(n_nucleo, s_nucleo, n_linker, s_linker, s_shift, 1, 0)"
   ]
  },
  {
   "cell_type": "code",
   "execution_count": 2,
   "metadata": {},
   "outputs": [],
   "source": [
    "import os\n",
    "os.environ['OMP_NUM_THREADS'] = '1' # prevent multithreading\n",
    "\n",
    "from tqdm.auto import tqdm\n",
    "from multiprocessing import Pool\n",
    "\n",
    "import numpy as np\n",
    "from scipy import optimize, linalg\n",
    "from matplotlib import pyplot as plt\n",
    "\n",
    "\n",
    "\n",
    "# The implementation we are using is not particularly efficient; so let's speed things up by parallelization\n",
    "N_traj = 10 # the more the better (but longer runtime)\n",
    "with Pool() as mypool:\n",
    "    imap = mypool.imap_unordered(run_recoil, np.random.randint(1<<31, size=N_traj))\n",
    "    imap = tqdm(imap, total=N_traj)\n",
    "    trajectories = np.array(list(imap))\n",
    "\n",
    "# os.environ['OMP_NUM_THREADS'] = '1' # prevent multithreading\n",
    "\n",
    "# from tqdm.auto import tqdm\n",
    "# from multiprocessing import Pool\n",
    "# from scipy import optimize, linalg\n",
    "# from matplotlib import pyplot as plt\n",
    "\n",
    "plt.rcParams['font.size'] = 8\n",
    "\n",
    "\n",
    "plt.rcParams['font.size'] = 8    \n",
    "\n",
    "\n",
    "# ctrl a pour selectionnet toute une cellule d'un coup\n",
    "# ctrl shift pour passer de fenetre en fenetre\n",
    "# alt flèches haut bas gauche droite"
   ]
  },
  {
   "cell_type": "code",
   "execution_count": 24,
   "metadata": {},
   "outputs": [
    {
     "name": "stdout",
     "output_type": "stream",
     "text": [
      "[[ 0.  3.  0.  5.  0.  2.  2.  7.  2.  5.  5.]\n",
      " [ 0.  5.  5.  7.  7.  9.  7. nan nan nan nan]\n",
      " [ 0.  4.  4.  7.  4.  9.  4.  7.  7. nan nan]] \n",
      "\n",
      " [[0.   0.22 0.31 0.47 1.2  1.25 3.21 3.56 4.55 5.12 6.12]\n",
      " [0.   0.45 0.55 0.88 2.22 3.12 3.55  nan  nan  nan  nan]\n",
      " [0.   0.12 0.44 0.76 0.79 2.13 2.55 4.17 5.13  nan  nan]] \n",
      "\n",
      " [[0.22 0.09 0.16 0.73 0.05 1.96 0.35 0.99 0.57 1.  ]\n",
      " [0.45 0.1  0.33 1.34 0.9  0.43  nan  nan  nan  nan]\n",
      " [0.12 0.32 0.32 0.03 1.34 0.42 1.62 0.96  nan  nan]]\n"
     ]
    }
   ],
   "source": [
    "import numpy as np\n",
    "\n",
    "x = np.array([[0, 3, 0, 5, 0, 2, 2, 7, 2, 5, 5],\n",
    "              [0, 5, 5, 7, 7, 9, 7, np.nan, np.nan, np.nan, np.nan],\n",
    "              [0, 4, 4, 7, 4, 9, 4, 7, 7, np.nan, np.nan]])\n",
    "\n",
    "tc = np.array([[0, 0.22, 0.31, 0.47, 1.20, 1.25, 3.21, 3.56, 4.55, 5.12, 6.12],\n",
    "              [0, 0.45, 0.55, 0.88, 2.22, 3.12, 3.55, np.nan, np.nan, np.nan, np.nan],\n",
    "              [0, 0.12, 0.44, 0.76, 0.79, 2.13, 2.55, 4.17, 5.13, np.nan, np.nan]])\n",
    "\n",
    "t = np.diff(tc, axis=1)\n",
    "\n",
    "print(x, \"\\n\\n\", tc, \"\\n\\n\", t)"
   ]
  },
  {
   "cell_type": "code",
   "execution_count": 25,
   "metadata": {},
   "outputs": [],
   "source": [
    "# Forward step dwell times were measured as the time between two consecutive forward steps\n",
    "# Reverse step dwell times were measured as the time between a reverse step and the preceding forward step\n",
    "\n",
    "# C'est exactement ce que je dois coder aujourd'hui"
   ]
  },
  {
   "cell_type": "code",
   "execution_count": 26,
   "metadata": {},
   "outputs": [],
   "source": [
    "# # Forward jumps\n",
    "# mask_forward = np.zeros_like(x, dtype=bool)\n",
    "# for i in range(len(x)):\n",
    "#     for j in range (len(x[i])-1):\n",
    "#         if x[i][j] == x[i][j+1]:\n",
    "#             # mask[i][j] = True\n",
    "#             mask_forward[i][j+1] = 1\n",
    "# print(mask_forward)\n",
    "\n",
    "# # Reverse jumps\n",
    "# mask_reverse = np.zeros_like(x, dtype=bool)\n",
    "# for i in range(len(x)):\n",
    "#     for j in range (len(x[i])-1):\n",
    "#         if x[i][j] != x[i][j+1]:\n",
    "#             # mask[i][j] = True\n",
    "#             mask_reverse[i][j+1] = 1\n",
    "# print(mask_reverse)\n",
    "\n",
    "# mask_rever = ~mask_forward\n",
    "# print(mask_rever)print(array)\n"
   ]
  },
  {
   "cell_type": "code",
   "execution_count": 38,
   "metadata": {},
   "outputs": [],
   "source": [
    "from typing import Tuple\n",
    "import matplotlib.pyplot as plt\n",
    "\n",
    "\n",
    "def calculate_distribution(\n",
    "    data: np.ndarray, \n",
    "    first_bin: float, \n",
    "    last_bin: float, \n",
    "    bin_width: float\n",
    ") -> Tuple[np.ndarray, np.ndarray]:\n",
    "    \"\"\"\n",
    "    Calculate the normalized distribution of data using a histogram.\n",
    "\n",
    "    Args:\n",
    "        data (np.ndarray): Array of data values to compute the distribution for.\n",
    "        first_bin (float): Lower bound of the first bin.\n",
    "        last_bin (float): Upper bound of the last bin.\n",
    "        bin_width (float): Width of each bin.\n",
    "\n",
    "    Returns:\n",
    "        Tuple[np.ndarray, np.ndarray]:\n",
    "            - points (np.ndarray): Array of bin centers.\n",
    "            - distrib (np.ndarray): Normalized distribution (sum equals 1).\n",
    "    \"\"\"\n",
    "\n",
    "    # Handle empty data array\n",
    "    if data.size == 0: \n",
    "        return np.array([]), np.array([])\n",
    "\n",
    "    # Points and not bins\n",
    "    bins_array = np.arange(first_bin, int(last_bin) + bin_width, bin_width)\n",
    "    distrib, bins_edges = np.histogram(data, bins=bins_array)\n",
    "\n",
    "    # Normalizing without generating NaNs\n",
    "    if np.sum(distrib) > 0:\n",
    "        distrib = distrib / np.sum(distrib)\n",
    "    else:\n",
    "        distrib = np.zeros_like(distrib)\n",
    "\n",
    "    points = (bins_edges[:-1] + bins_edges[1:]) / 2\n",
    "\n",
    "    # Return the bin centers and the normalized distribution\n",
    "    return points, distrib"
   ]
  },
  {
   "cell_type": "code",
   "execution_count": 39,
   "metadata": {},
   "outputs": [
    {
     "data": {
      "text/plain": [
       "array([3.21, 2.91, 0.55, 1.67, 0.44, 4.69])"
      ]
     },
     "execution_count": 39,
     "metadata": {},
     "output_type": "execute_result"
    }
   ],
   "source": [
    "def getting_forwards(x_matrix, t_matrix):\n",
    "\n",
    "    # Rajouter les listoflist in matrix\n",
    "\n",
    "    mask = np.zeros_like(x_matrix, dtype=bool)\n",
    "    matches = (x[:, :-1] == x[:, 1:])\n",
    "    mask[:, 1:] = matches\n",
    "\n",
    "    array = mask * t_matrix\n",
    "    result = np.concatenate([\n",
    "        np.insert(row[(row != 0 ) & ~np.isnan(row)], 0, 0)\n",
    "        for row in array\n",
    "    ])\n",
    "\n",
    "    diff = np.diff(result)\n",
    "    frwd_times = diff[diff > 0]\n",
    "\n",
    "    return frwd_times\n",
    "\n",
    "\n",
    "getting_forwards(x, tc)"
   ]
  },
  {
   "cell_type": "code",
   "execution_count": 40,
   "metadata": {},
   "outputs": [
    {
     "name": "stdout",
     "output_type": "stream",
     "text": [
      "[[ 0.  3.  0.  5.  0.  2.  2.  7.  2.  5.  5.]\n",
      " [ 0.  5.  5.  7.  7.  9.  7. nan nan nan nan]\n",
      " [ 0.  4.  4.  7.  4.  9.  4.  7.  7. nan nan]]\n",
      "[[0.   0.22 0.31 0.47 1.2  1.25 3.21 3.56 4.55 5.12 6.12]\n",
      " [0.   0.45 0.55 0.88 2.22 3.12 3.55  nan  nan  nan  nan]\n",
      " [0.   0.12 0.44 0.76 0.79 2.13 2.55 4.17 5.13  nan  nan]]\n",
      "\n",
      " [[0.   0.31 1.2  3.21 4.55 6.12]\n",
      " [0.   0.55 2.22 3.55  nan  nan]\n",
      " [0.   0.44 0.79 2.55 5.13  nan]] \n",
      "\n",
      "[[False False False  True False  True]\n",
      " [False  True  True False False False]\n",
      " [False  True False False  True False]]\n",
      "[np.float64(2.01), np.float64(1.5700000000000003), np.float64(0.55), np.float64(2.22), np.float64(0.44), np.float64(2.58)]\n"
     ]
    }
   ],
   "source": [
    "print(x)\n",
    "print(tc)\n",
    "our_times = tc[:, 0::2]\n",
    "print(\"\\n\", our_times, \"\\n\")\n",
    "\n",
    "mask = np.zeros_like(x, dtype=bool)\n",
    "matches = (x[:, :-1] == x[:, 1:])\n",
    "mask[:, 1:] = matches\n",
    "filter = mask[:, 0::2]\n",
    "print(filter)\n",
    "\n",
    "# result = np.concatenate([\n",
    "#     np.diff([])\n",
    "# ])\n",
    "\n",
    "dwell = []\n",
    "\n",
    "for i in range (len(filter)):\n",
    "    for j in range(len(filter[0])):\n",
    "        if filter[i][j] == False:\n",
    "            false_value = our_times[i][j]\n",
    "        if filter[i][j] == True:\n",
    "            dwell.append(our_times[i][j] - false_value)\n",
    "print(dwell)\n",
    "\n"
   ]
  },
  {
   "cell_type": "code",
   "execution_count": 41,
   "metadata": {},
   "outputs": [
    {
     "name": "stdout",
     "output_type": "stream",
     "text": [
      "[np.float64(2.01), np.float64(1.5700000000000003), np.float64(0.55), np.float64(2.22), np.float64(0.44), np.float64(2.58)]\n"
     ]
    },
    {
     "data": {
      "image/png": "[encoded data removed]",
      "text/plain": [
       "<Figure size 800x600 with 1 Axes>"
      ]
     },
     "metadata": {},
     "output_type": "display_data"
    }
   ],
   "source": [
    "def getting_reverses(t_matrix: np.ndarray, x_matrix: np.ndarray, first_bin: int, last_bin: int, bin_width: float) -> np.ndarray:\n",
    "\n",
    "    # Rajouter les listoflist in matrix\n",
    "    times = t_matrix[:, 0::2]\n",
    "\n",
    "    mask = np.zeros_like(x_matrix, dtype=bool)\n",
    "    matches = (x[:, :-1] == x[:, 1:])\n",
    "    mask[:, 1:] = matches\n",
    "    filter = mask[:, 0::2]\n",
    "\n",
    "    dwell = []\n",
    "\n",
    "    for i in range (len(filter)):\n",
    "        for j in range(len(filter[0])):\n",
    "            if filter[i][j] == False:\n",
    "                false_value = times[i][j]\n",
    "            if filter[i][j] == True:\n",
    "                dwell.append(times[i][j] - false_value)\n",
    "    print(dwell)\n",
    "\n",
    "    points, distrib_reverses = calculate_distribution(np.array(dwell), first_bin, last_bin, bin_width)\n",
    "    return points, distrib_reverses\n",
    "\n",
    "x_points, y_points = getting_reverses(tc, x, first_bin=0, last_bin=10, bin_width=1)\n",
    "\n",
    "plt.figure(figsize=(8,6))\n",
    "plt.plot(x_points, y_points)\n",
    "plt.show()"
   ]
  },
  {
   "cell_type": "code",
   "execution_count": 32,
   "metadata": {},
   "outputs": [
    {
     "name": "stdout",
     "output_type": "stream",
     "text": [
      "[np.float64(2.01), np.float64(1.5700000000000003), np.float64(0.55), np.float64(2.22), np.float64(0.44), np.float64(2.58)]\n"
     ]
    }
   ],
   "source": [
    "# # Sous forme numpy\n",
    "\n",
    "# dwell = []\n",
    "# for row_filter, row_times in zip(filter, our_times):\n",
    "#     # indices des False\n",
    "#     false_mask = ~row_filter\n",
    "#     # dernier False avant chaque position\n",
    "#     last_false = np.maximum.accumulate(row_times * false_mask)\n",
    "#     # différences seulement aux True\n",
    "#     dwell.extend((row_times - last_false)[row_filter])\n",
    "# print(dwell)"
   ]
  },
  {
   "cell_type": "code",
   "execution_count": 109,
   "metadata": {},
   "outputs": [],
   "source": [
    "# dwell_times = diffs_t[:, 0::2]\n",
    "\n",
    "# jump_times = diffs_t[:, 1::2]\n",
    "# print(dwell_times, \"\\n\", jump_times)"
   ]
  },
  {
   "cell_type": "code",
   "execution_count": 100,
   "metadata": {},
   "outputs": [
    {
     "name": "stdout",
     "output_type": "stream",
     "text": [
      "[[False False False False False  True  True False False  True  True]\n",
      " [False  True  True  True  True False False False False False False]\n",
      " [False False False False False False False  True  True False False]]\n"
     ]
    }
   ],
   "source": [
    "mask = np.zeros_like(x, dtype=bool)\n",
    "equal_next = (x[:, :-1] == x[:, 1:])\n",
    "\n",
    "mask[:, :-1] |= equal_next\n",
    "mask[:,  1:] |= equal_next\n",
    "\n",
    "print(mask)"
   ]
  },
  {
   "cell_type": "code",
   "execution_count": null,
   "metadata": {},
   "outputs": [],
   "source": [
    "def find_dwell_times(x_matrix: np.ndarray, t_matrix: np.ndarray):\n",
    "    tau_forward = 0\n",
    "    tau_reverse = 0\n",
    "    return tau_forward, tau_reverse"
   ]
  },
  {
   "cell_type": "markdown",
   "metadata": {},
   "source": [
    "# ."
   ]
  }
 ],
 "metadata": {
  "kernelspec": {
   "display_name": "venv_python_3.11.5-GCCcore-13.2.0",
   "language": "python",
   "name": "python3"
  },
  "language_info": {
   "codemirror_mode": {
    "name": "ipython",
    "version": 3
   },
   "file_extension": ".py",
   "mimetype": "text/x-python",
   "name": "python",
   "nbconvert_exporter": "python",
   "pygments_lexer": "ipython3",
   "version": "3.11.5"
  }
 },
 "nbformat": 4,
 "nbformat_minor": 2
}
