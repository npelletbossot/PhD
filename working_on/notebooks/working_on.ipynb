{
 "cells": [
  {
   "cell_type": "markdown",
   "metadata": {},
   "source": [
    "# File to work in and test few stuff"
   ]
  },
  {
   "cell_type": "code",
   "execution_count": 2,
   "metadata": {},
   "outputs": [
    {
     "data": {
      "text/plain": [
       "array([1., 1., 1., 1., 0., 0., 0., 0., 0., 0., 0., 0., 0., 0., 0., 0., 0.,\n",
       "       0., 0., 1., 1., 1., 1., 1., 1., 1., 0., 0., 0., 0., 0., 0., 0., 0.,\n",
       "       0., 0., 0., 0., 0., 0., 0., 1., 1., 1., 1., 1., 0., 0., 0., 0., 0.,\n",
       "       0., 0., 0., 0., 0., 0., 0., 0., 0., 0., 1., 1., 1., 0., 0., 0., 0.,\n",
       "       0., 0., 0., 0., 0., 0., 0., 0., 0., 0., 0., 1., 1., 1., 1., 1., 0.,\n",
       "       0., 0., 0., 0., 0., 0., 0., 0., 0., 0., 0., 0., 0., 0., 1., 1., 1.,\n",
       "       1., 1., 0., 0., 0., 0., 0., 0., 0., 0., 0., 0., 0., 0., 0., 0., 0.,\n",
       "       1., 1., 1., 1., 1., 0., 0., 0., 0., 0., 0., 0., 0., 0., 0., 0., 0.,\n",
       "       0., 0., 0., 1., 1., 1., 1., 1., 0., 0., 0., 0., 0., 0., 0., 0., 0.,\n",
       "       0., 0., 0., 0., 0., 0., 1., 1., 1., 1., 1., 1., 1., 0., 0., 0., 0.,\n",
       "       0., 0., 0., 0., 0., 0., 0., 0., 0., 0., 0., 1., 1., 1., 1., 1., 0.,\n",
       "       0., 0., 0., 0., 0., 0., 0., 0., 0., 0., 0., 0., 0., 0., 1., 1., 1.,\n",
       "       1.])"
      ]
     },
     "execution_count": 2,
     "metadata": {},
     "output_type": "execute_result"
    }
   ],
   "source": [
    "import numpy as np\n",
    "import matplotlib.pyplot as plt\n",
    "\n",
    "\n",
    "n_nucleo = 10\n",
    "s_nucleo = 15\n",
    "\n",
    "n_linker = n_nucleo + 1\n",
    "s_linker = 5\n",
    "\n",
    "s_shift = 1\n",
    "\n",
    "def alpha_diffused(\n",
    "    n_nucleo: int,\n",
    "    s_nucleo: int,\n",
    "    n_linker: int,\n",
    "    s_linker: int,\n",
    "    s_shift: int,\n",
    "    alphaf: float,\n",
    "    alphao: float\n",
    ") -> np.ndarray :\n",
    "    \"\"\"Generate a 1D alpha profile representing a chromatin fiber composed of nucleosomes and linkers,\n",
    "    with random diffusion (shifts) of linker regions around nucleosomes.\n",
    "\n",
    "    Args:\n",
    "        n_nucleo (int): Number of nucleosomes.\n",
    "        s_nucleo (int): Size (in base pairs) of each nucleosome.\n",
    "        n_linker (int): Number of linker regions (typically n_nucleo - 1).\n",
    "        s_linker (int): Size (in base pairs) of each linker region.\n",
    "        s_shift (int): Maximum extent (in bp) of the fuzzy linker region on each side of a nucleosome.\n",
    "                       Must satisfy s_shift ≤ s_linker // 2 to prevent overlapping.\n",
    "        alphaf (float): Alpha value assigned to fuzzy (linker) regions.\n",
    "        alphao (float): Alpha value assigned to ordered (nucleosome) regions.\n",
    "\n",
    "    Returns:\n",
    "        np.ndarray | None: The resulting 1D alpha profile, or None if the given s_shift is too large.\n",
    "    \n",
    "    Notes:\n",
    "        - The base profile alternates between linker and nucleosome regions with fixed periodicity.\n",
    "        - Each nucleosome is randomly assigned a side (left or right) where additional linker fuzziness is applied.\n",
    "        - The final profile is plotted: initial in blue, diffused in red.\n",
    "    \"\"\"\n",
    "    \n",
    "    if s_shift > s_linker // 2:\n",
    "        print(\"No such s_shift value permitted because of possible entanglement\")\n",
    "        return None\n",
    "\n",
    "    # Random shifts: -1 (right) or 1 (left) for each nucleosome\n",
    "    # Construct the initial periodic alpha profile\n",
    "    shifts = np.random.choice([-1, 1], size=n_nucleo, p=[0.5, 0.5])\n",
    "    s_period = s_linker + s_nucleo\n",
    "    shifted = np.array(\n",
    "        (s_linker * [alphaf] + s_nucleo * [alphao]) * n_nucleo + s_linker * [alphaf],\n",
    "        dtype=float\n",
    "    )\n",
    "\n",
    "    # Apply diffusion around each nucleosome\n",
    "    for i in range(n_nucleo):\n",
    "        nucleo_start = s_linker + i * s_period\n",
    "        shifted[nucleo_start - s_shift : nucleo_start + s_nucleo + s_shift] = alphao\n",
    "\n",
    "        if shifts[i] == 1:\n",
    "            # Fuzzy region to the left\n",
    "            shifted[nucleo_start - s_shift : nucleo_start + s_shift] = alphaf\n",
    "        else:\n",
    "            # Fuzzy region to the right\n",
    "            shifted[nucleo_start - s_shift + s_nucleo : nucleo_start + s_shift + s_nucleo] = alphaf\n",
    "\n",
    "    return shifted\n",
    "\n",
    "\n",
    "alpha_diffused(n_nucleo, s_nucleo, n_linker, s_linker, s_shift, 1, 0)"
   ]
  },
  {
   "cell_type": "code",
   "execution_count": 2,
   "metadata": {},
   "outputs": [],
   "source": [
    "import os\n",
    "os.environ['OMP_NUM_THREADS'] = '1' # prevent multithreading\n",
    "\n",
    "from tqdm.auto import tqdm\n",
    "from multiprocessing import Pool\n",
    "\n",
    "import numpy as np\n",
    "from scipy import optimize, linalg\n",
    "from matplotlib import pyplot as plt\n",
    "\n",
    "\n",
    "\n",
    "# The implementation we are using is not particularly efficient; so let's speed things up by parallelization\n",
    "N_traj = 10 # the more the better (but longer runtime)\n",
    "with Pool() as mypool:\n",
    "    imap = mypool.imap_unordered(run_recoil, np.random.randint(1<<31, size=N_traj))\n",
    "    imap = tqdm(imap, total=N_traj)\n",
    "    trajectories = np.array(list(imap))\n",
    "\n",
    "# os.environ['OMP_NUM_THREADS'] = '1' # prevent multithreading\n",
    "\n",
    "# from tqdm.auto import tqdm\n",
    "# from multiprocessing import Pool\n",
    "# from scipy import optimize, linalg\n",
    "# from matplotlib import pyplot as plt\n",
    "\n",
    "plt.rcParams['font.size'] = 8\n",
    "\n",
    "\n",
    "plt.rcParams['font.size'] = 8    \n",
    "\n",
    "\n",
    "# ctrl a pour selectionnet toute une cellule d'un coup\n",
    "# ctrl shift pour passer de fenetre en fenetre\n",
    "# alt flèches haut bas gauche droite"
   ]
  },
  {
   "cell_type": "code",
   "execution_count": 84,
   "metadata": {},
   "outputs": [
    {
     "name": "stdout",
     "output_type": "stream",
     "text": [
      "[[ 0.  3.  0.  5.  0.  2.  2.  7.  2.  5.  5.]\n",
      " [ 0.  5.  5.  7.  7.  9.  7. nan nan nan nan]\n",
      " [ 0.  4.  0.  7.  0.  9.  0.  7.  7. nan nan]] \n",
      " [[0.   0.22 0.31 0.47 1.2  1.25 3.21 3.56 4.55 5.12 6.12]\n",
      " [0.   0.45 0.55 0.88 2.22 3.12 3.55  nan  nan  nan  nan]\n",
      " [0.   0.12 0.44 0.76 0.79 2.13 2.55 4.17 5.13  nan  nan]]\n"
     ]
    }
   ],
   "source": [
    "import numpy as np\n",
    "\n",
    "x = np.array([[0, 3, 0, 5, 0, 2, 2, 7, 2, 5, 5],\n",
    "              [0, 5, 5, 7, 7, 9, 7, np.nan, np.nan, np.nan, np.nan],\n",
    "              [0, 4, 0, 7, 0, 9, 0, 7, 7, np.nan, np.nan]])\n",
    "\n",
    "t = np.array([[0, 0.22, 0.31, 0.47, 1.20, 1.25, 3.21, 3.56, 4.55, 5.12, 6.12],\n",
    "              [0, 0.45, 0.55, 0.88, 2.22, 3.12, 3.55, np.nan, np.nan, np.nan, np.nan],\n",
    "              [0, 0.12, 0.44, 0.76, 0.79, 2.13, 2.55, 4.17, 5.13, np.nan, np.nan]])\n",
    "\n",
    "print(x, \"\\n\", t)"
   ]
  },
  {
   "cell_type": "code",
   "execution_count": 85,
   "metadata": {},
   "outputs": [],
   "source": [
    "# Ce qu'on veut c'est trier 4 choses :\n",
    "# - Temps d'attente des reverses et des forwards\n",
    "# - Temps de saut des reverses et des forwards"
   ]
  },
  {
   "cell_type": "code",
   "execution_count": 86,
   "metadata": {},
   "outputs": [
    {
     "name": "stdout",
     "output_type": "stream",
     "text": [
      "[[0.22 0.09 0.16 0.73 0.05 1.96 0.35 0.99 0.57 1.  ]\n",
      " [0.45 0.1  0.33 1.34 0.9  0.43  nan  nan  nan  nan]\n",
      " [0.12 0.32 0.32 0.03 1.34 0.42 1.62 0.96  nan  nan]]\n"
     ]
    }
   ],
   "source": [
    "# Tous les temps d'attente correspondent aux indices paires de la différence\n",
    "# Tous les temps de saut correspondent aux indices impaires de la différence\n",
    "\n",
    "diffs_t = np.diff(t, axis=1)\n",
    "print(diffs_t)"
   ]
  },
  {
   "cell_type": "code",
   "execution_count": 87,
   "metadata": {},
   "outputs": [
    {
     "name": "stdout",
     "output_type": "stream",
     "text": [
      "[[0.22 0.16 0.05 0.35 0.57]\n",
      " [0.45 0.33 0.9   nan  nan]\n",
      " [0.12 0.32 1.34 1.62  nan]] \n",
      " [[0.09 0.73 1.96 0.99 1.  ]\n",
      " [0.1  1.34 0.43  nan  nan]\n",
      " [0.32 0.03 0.42 0.96  nan]]\n"
     ]
    }
   ],
   "source": [
    "dwell_times = diffs_t[:, 0::2]\n",
    "jump_times = diffs_t[:, 1::2]\n",
    "print(dwell_times, \"\\n\", jump_times)"
   ]
  },
  {
   "cell_type": "code",
   "execution_count": 88,
   "metadata": {},
   "outputs": [
    {
     "name": "stdout",
     "output_type": "stream",
     "text": [
      "[[ 0.  3.  0.  5.  0.  2.  2.  7.  2.  5.  5.]\n",
      " [ 0.  5.  5.  7.  7.  9.  7. nan nan nan nan]\n",
      " [ 0.  4.  0.  7.  0.  9.  0.  7.  7. nan nan]]\n"
     ]
    }
   ],
   "source": [
    "# Et pour les positions ?\n",
    "print(x)\n",
    "\n",
    "# dwell_x = x[:, 0::2]\n",
    "# jump_x = x[:, 1::2]\n",
    "\n",
    "# print(dwell_x, \"\\n\", jump_x)"
   ]
  },
  {
   "cell_type": "code",
   "execution_count": 93,
   "metadata": {},
   "outputs": [
    {
     "name": "stdout",
     "output_type": "stream",
     "text": [
      "[[False False False False False  True  True False False  True  True]\n",
      " [False  True  True  True  True False False False False False False]\n",
      " [False False False False False False False  True  True False False]]\n"
     ]
    }
   ],
   "source": [
    "mask = np.zeros_like(x, dtype=bool)\n",
    "\n",
    "for i in range(len(x)):\n",
    "    for j in range (len(x[i])-1):\n",
    "        if x[i][j]==x[i][j+1]:\n",
    "            mask[i][j] = True\n",
    "            mask[i][j+1] = True\n",
    "\n",
    "print(mask)"
   ]
  },
  {
   "cell_type": "code",
   "execution_count": 92,
   "metadata": {},
   "outputs": [
    {
     "name": "stdout",
     "output_type": "stream",
     "text": [
      "[[False False False False False  True  True False False  True  True]\n",
      " [False  True  True  True  True False False False False False False]\n",
      " [False False False False False False False  True  True False False]]\n"
     ]
    }
   ],
   "source": [
    "mask = np.zeros_like(x, dtype=bool)\n",
    "equal_next = (x[:, :-1] == x[:, 1:])\n",
    "\n",
    "mask[:, :-1] |= equal_next\n",
    "mask[:,  1:] |= equal_next\n",
    "\n",
    "print(mask)"
   ]
  },
  {
   "cell_type": "markdown",
   "metadata": {},
   "source": [
    "# ."
   ]
  }
 ],
 "metadata": {
  "kernelspec": {
   "display_name": "venv_python_3.11.5-GCCcore-13.2.0",
   "language": "python",
   "name": "python3"
  },
  "language_info": {
   "codemirror_mode": {
    "name": "ipython",
    "version": 3
   },
   "file_extension": ".py",
   "mimetype": "text/x-python",
   "name": "python",
   "nbconvert_exporter": "python",
   "pygments_lexer": "ipython3",
   "version": "3.11.5"
  }
 },
 "nbformat": 4,
 "nbformat_minor": 2
}
